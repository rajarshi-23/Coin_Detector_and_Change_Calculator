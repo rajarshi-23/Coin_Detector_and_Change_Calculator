{
 "cells": [
  {
   "cell_type": "markdown",
   "id": "2cbbd830-2b01-44cb-9107-6f2c4286c5d8",
   "metadata": {},
   "source": [
    "## 1"
   ]
  },
  {
   "cell_type": "code",
   "execution_count": 1,
   "id": "383a33e7",
   "metadata": {
    "scrolled": true
   },
   "outputs": [
    {
     "name": "stdout",
     "output_type": "stream",
     "text": [
      "Requirement already satisfied: opencv-python in c:\\users\\rajarshi\\anaconda3\\envs\\tf2\\lib\\site-packages (4.9.0.80)\n",
      "Requirement already satisfied: numpy>=1.17.0 in c:\\users\\rajarshi\\anaconda3\\envs\\tf2\\lib\\site-packages (from opencv-python) (1.24.4)\n"
     ]
    }
   ],
   "source": [
    "!pip install opencv-python"
   ]
  },
  {
   "cell_type": "code",
   "execution_count": 2,
   "id": "2fdb9806",
   "metadata": {},
   "outputs": [],
   "source": [
    "import cv2\n",
    "import uuid\n",
    "import os\n",
    "import time"
   ]
  },
  {
   "cell_type": "markdown",
   "id": "f569d773-c843-4cd5-9e67-62eb8d15ed19",
   "metadata": {},
   "source": [
    "## 2"
   ]
  },
  {
   "cell_type": "code",
   "execution_count": 3,
   "id": "e201d7af",
   "metadata": {},
   "outputs": [],
   "source": [
    "labels = ['one', 'two', 'five', 'ten']\n",
    "number_imgs = 5"
   ]
  },
  {
   "cell_type": "markdown",
   "id": "b2d1d1bd-964e-45a4-9112-69cd7e13d2c0",
   "metadata": {},
   "source": [
    "## 3"
   ]
  },
  {
   "cell_type": "code",
   "execution_count": 4,
   "id": "fad8462c",
   "metadata": {},
   "outputs": [],
   "source": [
    "IMAGES_PATH = os.path.join('Tensorflow', 'workspace', 'images', 'collectedimages')"
   ]
  },
  {
   "cell_type": "code",
   "execution_count": 5,
   "id": "21919c2c",
   "metadata": {},
   "outputs": [],
   "source": [
    "if not os.path.exists(IMAGES_PATH):\n",
    "    if os.name == 'nt':\n",
    "        !mkdir {IMAGES_PATH}\n",
    "for label in labels:\n",
    "    path = os.path.join(IMAGES_PATH, label)\n",
    "    if not os.path.exists(path):\n",
    "        !mkdir {path}"
   ]
  },
  {
   "cell_type": "markdown",
   "id": "9a4a46cd-1874-45f2-aa87-29e6118fb39d",
   "metadata": {},
   "source": [
    "## 4"
   ]
  },
  {
   "cell_type": "code",
   "execution_count": 6,
   "id": "99cf717d",
   "metadata": {},
   "outputs": [
    {
     "data": {
      "text/plain": [
       "\"\\nfor label in labels:\\n    cap = cv2.VideoCapture(1)\\n    print('Collecting images for {}'.format(label))\\n    time.sleep(10)\\n    for imgnum in range(number_imgs):\\n        print('Collecting image {}'.format(imgnum))\\n        ret, frame = cap.read()\\n        imgname = os.path.join(IMAGES_PATH,label,label+'.'+'{}.jpg'.format(str(uuid.uuid1())))\\n        cv2.imwrite(imgname, frame)\\n        cv2.imshow('frame', frame)\\n        time.sleep(5)\\n\\n        if cv2.waitKey(1) & 0xFF == ord('q'):\\n            break\\ncap.release()\\ncv2.destroyAllWindows()\\n\""
      ]
     },
     "execution_count": 6,
     "metadata": {},
     "output_type": "execute_result"
    }
   ],
   "source": [
    "'''\n",
    "for label in labels:\n",
    "    cap = cv2.VideoCapture(1)\n",
    "    print('Collecting images for {}'.format(label))\n",
    "    time.sleep(10)\n",
    "    for imgnum in range(number_imgs):\n",
    "        print('Collecting image {}'.format(imgnum))\n",
    "        ret, frame = cap.read()\n",
    "        imgname = os.path.join(IMAGES_PATH,label,label+'.'+'{}.jpg'.format(str(uuid.uuid1())))\n",
    "        cv2.imwrite(imgname, frame)\n",
    "        cv2.imshow('frame', frame)\n",
    "        time.sleep(5)\n",
    "\n",
    "        if cv2.waitKey(1) & 0xFF == ord('q'):\n",
    "            break\n",
    "cap.release()\n",
    "cv2.destroyAllWindows()\n",
    "'''"
   ]
  },
  {
   "cell_type": "markdown",
   "id": "b1f22462-2909-40cc-b98f-525195b00772",
   "metadata": {},
   "source": [
    "## 5"
   ]
  },
  {
   "cell_type": "code",
   "execution_count": 3,
   "id": "e0ace1a2",
   "metadata": {},
   "outputs": [
    {
     "name": "stdout",
     "output_type": "stream",
     "text": [
      "Collecting pyqt5\n",
      "  Using cached PyQt5-5.15.10-cp37-abi3-win_amd64.whl.metadata (2.2 kB)\n",
      "Requirement already satisfied: lxml in c:\\users\\rajarshi\\anaconda3\\envs\\tf2\\lib\\site-packages (5.2.1)\n",
      "Collecting PyQt5-sip<13,>=12.13 (from pyqt5)\n",
      "  Using cached PyQt5_sip-12.13.0-cp39-cp39-win_amd64.whl.metadata (524 bytes)\n",
      "Collecting PyQt5-Qt5>=5.15.2 (from pyqt5)\n",
      "  Using cached PyQt5_Qt5-5.15.2-py3-none-win_amd64.whl.metadata (552 bytes)\n",
      "Using cached PyQt5-5.15.10-cp37-abi3-win_amd64.whl (6.8 MB)\n",
      "Using cached PyQt5_Qt5-5.15.2-py3-none-win_amd64.whl (50.1 MB)\n",
      "Using cached PyQt5_sip-12.13.0-cp39-cp39-win_amd64.whl (78 kB)\n",
      "Installing collected packages: PyQt5-Qt5, PyQt5-sip, pyqt5\n",
      "Successfully installed PyQt5-Qt5-5.15.2 PyQt5-sip-12.13.0 pyqt5-5.15.10\n"
     ]
    }
   ],
   "source": [
    "!pip install pyqt5 lxml"
   ]
  },
  {
   "cell_type": "code",
   "execution_count": 8,
   "id": "0c7a1019",
   "metadata": {},
   "outputs": [],
   "source": [
    "LABELIMG_PATH = os.path.join('Tensorflow', 'labelimg')"
   ]
  },
  {
   "cell_type": "code",
   "execution_count": 9,
   "id": "dccefbbe",
   "metadata": {},
   "outputs": [],
   "source": [
    "if not os.path.exists(LABELIMG_PATH):\n",
    "    !mkdir {LABELIMG_PATH}\n",
    "    !git clone https://github.com/tzutalin/labelImg {LABELIMG_PATH}"
   ]
  },
  {
   "cell_type": "code",
   "execution_count": 10,
   "id": "57b686ca",
   "metadata": {},
   "outputs": [],
   "source": [
    "if os.name =='nt':\n",
    "    !cd {LABELIMG_PATH} && pyrcc5 -o libs/resources.py resources.qrc"
   ]
  },
  {
   "cell_type": "code",
   "execution_count": 11,
   "id": "f2a9f0c6",
   "metadata": {},
   "outputs": [
    {
     "name": "stdout",
     "output_type": "stream",
     "text": [
      "Image:D:\\innovative_project\\Tensorflow\\workspace\\images\\collectedimages\\five-2\\five-IMG_1712420997681.jpg -> Annotation:D:/innovative_project/Tensorflow/workspace/images/collectedimages/five-2\\five-IMG_1712420997681.xml\n",
      "Image:D:\\innovative_project\\Tensorflow\\workspace\\images\\collectedimages\\five-2\\five-IMG_1712420998123.jpg -> Annotation:D:/innovative_project/Tensorflow/workspace/images/collectedimages/five-2\\five-IMG_1712420998123.xml\n",
      "Cancel creation.\n",
      "Image:D:\\innovative_project\\Tensorflow\\workspace\\images\\collectedimages\\five-2\\five-IMG_1712420999217.jpg -> Annotation:D:/innovative_project/Tensorflow/workspace/images/collectedimages/five-2\\five-IMG_1712420999217.xml\n",
      "Image:D:\\innovative_project\\Tensorflow\\workspace\\images\\collectedimages\\five-2\\five-IMG_1712420999640.jpg -> Annotation:D:/innovative_project/Tensorflow/workspace/images/collectedimages/five-2\\five-IMG_1712420999640.xml\n",
      "Image:D:\\innovative_project\\Tensorflow\\workspace\\images\\collectedimages\\five-2\\five-IMG_1712421000079.jpg -> Annotation:D:/innovative_project/Tensorflow/workspace/images/collectedimages/five-2\\five-IMG_1712421000079.xml\n",
      "Image:D:\\innovative_project\\Tensorflow\\workspace\\images\\collectedimages\\five-2\\five-IMG_1712421000564.jpg -> Annotation:D:/innovative_project/Tensorflow/workspace/images/collectedimages/five-2\\five-IMG_1712421000564.xml\n",
      "Image:D:\\innovative_project\\Tensorflow\\workspace\\images\\collectedimages\\five-2\\five-IMG_1712421001024.jpg -> Annotation:D:/innovative_project/Tensorflow/workspace/images/collectedimages/five-2\\five-IMG_1712421001024.xml\n",
      "Image:D:\\innovative_project\\Tensorflow\\workspace\\images\\collectedimages\\five-2\\five-IMG_1712421001501.jpg -> Annotation:D:/innovative_project/Tensorflow/workspace/images/collectedimages/five-2\\five-IMG_1712421001501.xml\n",
      "Image:D:\\innovative_project\\Tensorflow\\workspace\\images\\collectedimages\\five-2\\five-IMG_1712421001936.jpg -> Annotation:D:/innovative_project/Tensorflow/workspace/images/collectedimages/five-2\\five-IMG_1712421001936.xml\n",
      "Image:D:\\innovative_project\\Tensorflow\\workspace\\images\\collectedimages\\five-2\\five-IMG_1712421002361.jpg -> Annotation:D:/innovative_project/Tensorflow/workspace/images/collectedimages/five-2\\five-IMG_1712421002361.xml\n",
      "Image:D:\\innovative_project\\Tensorflow\\workspace\\images\\collectedimages\\five-2\\five-IMG_1712421003560.jpg -> Annotation:D:/innovative_project/Tensorflow/workspace/images/collectedimages/five-2\\five-IMG_1712421003560.xml\n",
      "Image:D:\\innovative_project\\Tensorflow\\workspace\\images\\collectedimages\\five-2\\five-IMG_1712421004657.jpg -> Annotation:D:/innovative_project/Tensorflow/workspace/images/collectedimages/five-2\\five-IMG_1712421004657.xml\n",
      "Image:D:\\innovative_project\\Tensorflow\\workspace\\images\\collectedimages\\five-2\\five-IMG_1712421005755.jpg -> Annotation:D:/innovative_project/Tensorflow/workspace/images/collectedimages/five-2\\five-IMG_1712421005755.xml\n",
      "Image:D:\\innovative_project\\Tensorflow\\workspace\\images\\collectedimages\\five-2\\five-IMG_1712421006176.jpg -> Annotation:D:/innovative_project/Tensorflow/workspace/images/collectedimages/five-2\\five-IMG_1712421006176.xml\n",
      "Image:D:\\innovative_project\\Tensorflow\\workspace\\images\\collectedimages\\five-2\\five-IMG_1712421006635.jpg -> Annotation:D:/innovative_project/Tensorflow/workspace/images/collectedimages/five-2\\five-IMG_1712421006635.xml\n",
      "Image:D:\\innovative_project\\Tensorflow\\workspace\\images\\collectedimages\\five-2\\five-IMG_1712421007017.jpg -> Annotation:D:/innovative_project/Tensorflow/workspace/images/collectedimages/five-2\\five-IMG_1712421007017.xml\n",
      "Image:D:\\innovative_project\\Tensorflow\\workspace\\images\\collectedimages\\five-2\\five-IMG_1712421007437.jpg -> Annotation:D:/innovative_project/Tensorflow/workspace/images/collectedimages/five-2\\five-IMG_1712421007437.xml\n",
      "Image:D:\\innovative_project\\Tensorflow\\workspace\\images\\collectedimages\\five-2\\five-IMG_1712421007899.jpg -> Annotation:D:/innovative_project/Tensorflow/workspace/images/collectedimages/five-2\\five-IMG_1712421007899.xml\n",
      "Image:D:\\innovative_project\\Tensorflow\\workspace\\images\\collectedimages\\five-2\\five-IMG_1712421008306.jpg -> Annotation:D:/innovative_project/Tensorflow/workspace/images/collectedimages/five-2\\five-IMG_1712421008306.xml\n",
      "Image:D:\\innovative_project\\Tensorflow\\workspace\\images\\collectedimages\\five-2\\five-IMG_1712421008719.jpg -> Annotation:D:/innovative_project/Tensorflow/workspace/images/collectedimages/five-2\\five-IMG_1712421008719.xml\n",
      "Image:D:\\innovative_project\\Tensorflow\\workspace\\images\\collectedimages\\one-2\\one-IMG_1712420957365.jpg -> Annotation:D:/innovative_project/Tensorflow/workspace/images/collectedimages/one-2\\one-IMG_1712420957365.xml\n",
      "Cancel creation.\n",
      "Cancel creation.\n",
      "Image:D:\\innovative_project\\Tensorflow\\workspace\\images\\collectedimages\\one-2\\one-IMG_1712420958503.jpg -> Annotation:D:/innovative_project/Tensorflow/workspace/images/collectedimages/one-2\\one-IMG_1712420958503.xml\n",
      "Cancel creation.\n",
      "Image:D:\\innovative_project\\Tensorflow\\workspace\\images\\collectedimages\\one-2\\one-IMG_1712420959684.jpg -> Annotation:D:/innovative_project/Tensorflow/workspace/images/collectedimages/one-2\\one-IMG_1712420959684.xml\n",
      "Image:D:\\innovative_project\\Tensorflow\\workspace\\images\\collectedimages\\one-2\\one-IMG_1712420960746.jpg -> Annotation:D:/innovative_project/Tensorflow/workspace/images/collectedimages/one-2\\one-IMG_1712420960746.xml\n",
      "Cancel creation.\n",
      "Image:D:\\innovative_project\\Tensorflow\\workspace\\images\\collectedimages\\one-2\\one-IMG_1712420961912.jpg -> Annotation:D:/innovative_project/Tensorflow/workspace/images/collectedimages/one-2\\one-IMG_1712420961912.xml\n",
      "Image:D:\\innovative_project\\Tensorflow\\workspace\\images\\collectedimages\\one-2\\one-IMG_1712420962980.jpg -> Annotation:D:/innovative_project/Tensorflow/workspace/images/collectedimages/one-2\\one-IMG_1712420962980.xml\n",
      "Image:D:\\innovative_project\\Tensorflow\\workspace\\images\\collectedimages\\one-2\\one-IMG_1712420963423.jpg -> Annotation:D:/innovative_project/Tensorflow/workspace/images/collectedimages/one-2\\one-IMG_1712420963423.xml\n",
      "Image:D:\\innovative_project\\Tensorflow\\workspace\\images\\collectedimages\\one-2\\one-IMG_1712420964557.jpg -> Annotation:D:/innovative_project/Tensorflow/workspace/images/collectedimages/one-2\\one-IMG_1712420964557.xml\n",
      "Image:D:\\innovative_project\\Tensorflow\\workspace\\images\\collectedimages\\one-2\\one-IMG_1712420965662.jpg -> Annotation:D:/innovative_project/Tensorflow/workspace/images/collectedimages/one-2\\one-IMG_1712420965662.xml\n",
      "Image:D:\\innovative_project\\Tensorflow\\workspace\\images\\collectedimages\\one-2\\one-IMG_1712420966741.jpg -> Annotation:D:/innovative_project/Tensorflow/workspace/images/collectedimages/one-2\\one-IMG_1712420966741.xml\n",
      "Image:D:\\innovative_project\\Tensorflow\\workspace\\images\\collectedimages\\one-2\\one-IMG_1712420967943.jpg -> Annotation:D:/innovative_project/Tensorflow/workspace/images/collectedimages/one-2\\one-IMG_1712420967943.xml\n",
      "Image:D:\\innovative_project\\Tensorflow\\workspace\\images\\collectedimages\\one-2\\one-IMG_1712420969136.jpg -> Annotation:D:/innovative_project/Tensorflow/workspace/images/collectedimages/one-2\\one-IMG_1712420969136.xml\n",
      "Image:D:\\innovative_project\\Tensorflow\\workspace\\images\\collectedimages\\one-2\\one-IMG_1712420970252.jpg -> Annotation:D:/innovative_project/Tensorflow/workspace/images/collectedimages/one-2\\one-IMG_1712420970252.xml\n",
      "Image:D:\\innovative_project\\Tensorflow\\workspace\\images\\collectedimages\\one-2\\one-IMG_1712420971321.jpg -> Annotation:D:/innovative_project/Tensorflow/workspace/images/collectedimages/one-2\\one-IMG_1712420971321.xml\n",
      "Image:D:\\innovative_project\\Tensorflow\\workspace\\images\\collectedimages\\one-2\\one-IMG_1712420971736.jpg -> Annotation:D:/innovative_project/Tensorflow/workspace/images/collectedimages/one-2\\one-IMG_1712420971736.xml\n",
      "Cancel creation.\n",
      "Cancel creation.\n",
      "Image:D:\\innovative_project\\Tensorflow\\workspace\\images\\collectedimages\\one-2\\one-IMG_1712420972834.jpg -> Annotation:D:/innovative_project/Tensorflow/workspace/images/collectedimages/one-2\\one-IMG_1712420972834.xml\n",
      "Image:D:\\innovative_project\\Tensorflow\\workspace\\images\\collectedimages\\one-2\\one-IMG_1712420973952.jpg -> Annotation:D:/innovative_project/Tensorflow/workspace/images/collectedimages/one-2\\one-IMG_1712420973952.xml\n",
      "Image:D:\\innovative_project\\Tensorflow\\workspace\\images\\collectedimages\\one-2\\one-IMG_1712420975051.jpg -> Annotation:D:/innovative_project/Tensorflow/workspace/images/collectedimages/one-2\\one-IMG_1712420975051.xml\n",
      "Image:D:\\innovative_project\\Tensorflow\\workspace\\images\\collectedimages\\one-2\\one-IMG_1712420976146.jpg -> Annotation:D:/innovative_project/Tensorflow/workspace/images/collectedimages/one-2\\one-IMG_1712420976146.xml\n",
      "Image:D:\\innovative_project\\Tensorflow\\workspace\\images\\collectedimages\\one-2\\one-IMG_1712420977228.jpg -> Annotation:D:/innovative_project/Tensorflow/workspace/images/collectedimages/one-2\\one-IMG_1712420977228.xml\n",
      "Image:D:\\innovative_project\\Tensorflow\\workspace\\images\\collectedimages\\two-2\\two-IMG_1712420977730.jpg -> Annotation:D:/innovative_project/Tensorflow/workspace/images/collectedimages/two-2\\two-IMG_1712420977730.xml\n",
      "Image:D:\\innovative_project\\Tensorflow\\workspace\\images\\collectedimages\\two-2\\two-IMG_1712420978833.jpg -> Annotation:D:/innovative_project/Tensorflow/workspace/images/collectedimages/two-2\\two-IMG_1712420978833.xml\n",
      "Image:D:\\innovative_project\\Tensorflow\\workspace\\images\\collectedimages\\two-2\\two-IMG_1712420980028.jpg -> Annotation:D:/innovative_project/Tensorflow/workspace/images/collectedimages/two-2\\two-IMG_1712420980028.xml\n",
      "Image:D:\\innovative_project\\Tensorflow\\workspace\\images\\collectedimages\\two-2\\two-IMG_1712420980442.jpg -> Annotation:D:/innovative_project/Tensorflow/workspace/images/collectedimages/two-2\\two-IMG_1712420980442.xml\n",
      "Image:D:\\innovative_project\\Tensorflow\\workspace\\images\\collectedimages\\two-2\\two-IMG_1712420981536.jpg -> Annotation:D:/innovative_project/Tensorflow/workspace/images/collectedimages/two-2\\two-IMG_1712420981536.xml\n",
      "Image:D:\\innovative_project\\Tensorflow\\workspace\\images\\collectedimages\\two-2\\two-IMG_1712420982645.jpg -> Annotation:D:/innovative_project/Tensorflow/workspace/images/collectedimages/two-2\\two-IMG_1712420982645.xml\n",
      "Image:D:\\innovative_project\\Tensorflow\\workspace\\images\\collectedimages\\two-2\\two-IMG_1712420983782.jpg -> Annotation:D:/innovative_project/Tensorflow/workspace/images/collectedimages/two-2\\two-IMG_1712420983782.xml\n",
      "Image:D:\\innovative_project\\Tensorflow\\workspace\\images\\collectedimages\\two-2\\two-IMG_1712420984819.jpg -> Annotation:D:/innovative_project/Tensorflow/workspace/images/collectedimages/two-2\\two-IMG_1712420984819.xml\n",
      "Image:D:\\innovative_project\\Tensorflow\\workspace\\images\\collectedimages\\two-2\\two-IMG_1712420985892.jpg -> Annotation:D:/innovative_project/Tensorflow/workspace/images/collectedimages/two-2\\two-IMG_1712420985892.xml\n",
      "Image:D:\\innovative_project\\Tensorflow\\workspace\\images\\collectedimages\\two-2\\two-IMG_1712420986977.jpg -> Annotation:D:/innovative_project/Tensorflow/workspace/images/collectedimages/two-2\\two-IMG_1712420986977.xml\n",
      "Image:D:\\innovative_project\\Tensorflow\\workspace\\images\\collectedimages\\two-2\\two-IMG_1712420988069.jpg -> Annotation:D:/innovative_project/Tensorflow/workspace/images/collectedimages/two-2\\two-IMG_1712420988069.xml\n",
      "Image:D:\\innovative_project\\Tensorflow\\workspace\\images\\collectedimages\\two-2\\two-IMG_1712420989194.jpg -> Annotation:D:/innovative_project/Tensorflow/workspace/images/collectedimages/two-2\\two-IMG_1712420989194.xml\n",
      "Cancel creation.\n",
      "Image:D:\\innovative_project\\Tensorflow\\workspace\\images\\collectedimages\\two-2\\two-IMG_1712420990330.jpg -> Annotation:D:/innovative_project/Tensorflow/workspace/images/collectedimages/two-2\\two-IMG_1712420990330.xml\n",
      "Image:D:\\innovative_project\\Tensorflow\\workspace\\images\\collectedimages\\two-2\\two-IMG_1712420990757.jpg -> Annotation:D:/innovative_project/Tensorflow/workspace/images/collectedimages/two-2\\two-IMG_1712420990757.xml\n",
      "Cancel creation.\n",
      "Image:D:\\innovative_project\\Tensorflow\\workspace\\images\\collectedimages\\two-2\\two-IMG_1712420991831.jpg -> Annotation:D:/innovative_project/Tensorflow/workspace/images/collectedimages/two-2\\two-IMG_1712420991831.xml\n",
      "Image:D:\\innovative_project\\Tensorflow\\workspace\\images\\collectedimages\\two-2\\two-IMG_1712420992240.jpg -> Annotation:D:/innovative_project/Tensorflow/workspace/images/collectedimages/two-2\\two-IMG_1712420992240.xml\n",
      "Image:D:\\innovative_project\\Tensorflow\\workspace\\images\\collectedimages\\two-2\\two-IMG_1712420993301.jpg -> Annotation:D:/innovative_project/Tensorflow/workspace/images/collectedimages/two-2\\two-IMG_1712420993301.xml\n",
      "Cancel creation.\n",
      "Image:D:\\innovative_project\\Tensorflow\\workspace\\images\\collectedimages\\two-2\\two-IMG_1712420994413.jpg -> Annotation:D:/innovative_project/Tensorflow/workspace/images/collectedimages/two-2\\two-IMG_1712420994413.xml\n",
      "Image:D:\\innovative_project\\Tensorflow\\workspace\\images\\collectedimages\\two-2\\two-IMG_1712420995522.jpg -> Annotation:D:/innovative_project/Tensorflow/workspace/images/collectedimages/two-2\\two-IMG_1712420995522.xml\n",
      "Cancel creation.\n",
      "Image:D:\\innovative_project\\Tensorflow\\workspace\\images\\collectedimages\\two-2\\two-IMG_1712420996598.jpg -> Annotation:D:/innovative_project/Tensorflow/workspace/images/collectedimages/two-2\\two-IMG_1712420996598.xml\n",
      "Image:D:\\innovative_project\\Tensorflow\\workspace\\images\\collectedimages\\two-2\\two-IMG_1712420994413.jpg -> Annotation:D:/innovative_project/Tensorflow/workspace/images/collectedimages/two-2\\two-IMG_1712420994413.xml\n",
      "Image:D:\\innovative_project\\Tensorflow\\workspace\\images\\collectedimages\\two-2\\two-IMG_1712420993301.jpg -> Annotation:D:/innovative_project/Tensorflow/workspace/images/collectedimages/two-2\\two-IMG_1712420993301.xml\n"
     ]
    }
   ],
   "source": [
    "!cd {LABELIMG_PATH} && python labelImg.py"
   ]
  },
  {
   "cell_type": "markdown",
   "id": "d58ea858-4589-44be-b191-46025d1eb3fc",
   "metadata": {},
   "source": [
    "## 6"
   ]
  },
  {
   "cell_type": "code",
   "execution_count": 9,
   "id": "ca48051b-2fcf-47af-9630-ef9172ac2709",
   "metadata": {},
   "outputs": [],
   "source": [
    "#Make train and test folders and fill them using the labeled data and each respective images"
   ]
  },
  {
   "cell_type": "code",
   "execution_count": null,
   "id": "97d77810-d428-43e2-a23c-3944bb7736a0",
   "metadata": {},
   "outputs": [],
   "source": []
  }
 ],
 "metadata": {
  "kernelspec": {
   "display_name": "Python 3 (ipykernel)",
   "language": "python",
   "name": "python3"
  },
  "language_info": {
   "codemirror_mode": {
    "name": "ipython",
    "version": 3
   },
   "file_extension": ".py",
   "mimetype": "text/x-python",
   "name": "python",
   "nbconvert_exporter": "python",
   "pygments_lexer": "ipython3",
   "version": "3.9.19"
  }
 },
 "nbformat": 4,
 "nbformat_minor": 5
}
